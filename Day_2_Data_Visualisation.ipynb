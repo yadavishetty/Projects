{
  "nbformat": 4,
  "nbformat_minor": 0,
  "metadata": {
    "colab": {
      "name": "Day 2-Data Visualisation.ipynb",
      "provenance": []
    },
    "kernelspec": {
      "name": "python3",
      "display_name": "Python 3"
    },
    "language_info": {
      "name": "python"
    }
  },
  "cells": [
    {
      "cell_type": "markdown",
      "metadata": {
        "id": "Hv5WtnIPlFc3"
      },
      "source": [
        "ASSIGNMENT-1</br>\n",
        "NAME :- YADAVI JAYARAM SHETTY </br> \n",
        "EMAIL:- yadavishetty3804@gmail.com </br> Date : 11/06/2021\n"
      ]
    },
    {
      "cell_type": "code",
      "metadata": {
        "id": "94VcOo3phjC4"
      },
      "source": [
        "import numpy as np\n",
        "import matplotlib.pyplot as plt\n",
        "import pandas as pd\n",
        "import seaborn as sns\n",
        "%matplotlib inline\n",
        "from numpy.random import randn,randint,uniform,sample"
      ],
      "execution_count": 1,
      "outputs": []
    },
    {
      "cell_type": "code",
      "metadata": {
        "colab": {
          "base_uri": "https://localhost:8080/",
          "height": 363
        },
        "id": "on9ZuytChnWb",
        "outputId": "079537d6-b509-445d-8162-2ddc1b85d078"
      },
      "source": [
        "df = pd.DataFrame(randn(10,4),columns=['a','b','c','d'])\n",
        "df"
      ],
      "execution_count": 2,
      "outputs": [
        {
          "output_type": "execute_result",
          "data": {
            "text/html": [
              "<div>\n",
              "<style scoped>\n",
              "    .dataframe tbody tr th:only-of-type {\n",
              "        vertical-align: middle;\n",
              "    }\n",
              "\n",
              "    .dataframe tbody tr th {\n",
              "        vertical-align: top;\n",
              "    }\n",
              "\n",
              "    .dataframe thead th {\n",
              "        text-align: right;\n",
              "    }\n",
              "</style>\n",
              "<table border=\"1\" class=\"dataframe\">\n",
              "  <thead>\n",
              "    <tr style=\"text-align: right;\">\n",
              "      <th></th>\n",
              "      <th>a</th>\n",
              "      <th>b</th>\n",
              "      <th>c</th>\n",
              "      <th>d</th>\n",
              "    </tr>\n",
              "  </thead>\n",
              "  <tbody>\n",
              "    <tr>\n",
              "      <th>0</th>\n",
              "      <td>-0.286409</td>\n",
              "      <td>0.631345</td>\n",
              "      <td>0.695314</td>\n",
              "      <td>-0.343790</td>\n",
              "    </tr>\n",
              "    <tr>\n",
              "      <th>1</th>\n",
              "      <td>0.599518</td>\n",
              "      <td>0.218544</td>\n",
              "      <td>-0.412197</td>\n",
              "      <td>-0.469114</td>\n",
              "    </tr>\n",
              "    <tr>\n",
              "      <th>2</th>\n",
              "      <td>1.500041</td>\n",
              "      <td>-0.199225</td>\n",
              "      <td>-0.577007</td>\n",
              "      <td>-1.276129</td>\n",
              "    </tr>\n",
              "    <tr>\n",
              "      <th>3</th>\n",
              "      <td>-1.187059</td>\n",
              "      <td>-0.193522</td>\n",
              "      <td>-0.496401</td>\n",
              "      <td>-1.732184</td>\n",
              "    </tr>\n",
              "    <tr>\n",
              "      <th>4</th>\n",
              "      <td>-1.192196</td>\n",
              "      <td>1.387128</td>\n",
              "      <td>-0.741932</td>\n",
              "      <td>-0.526384</td>\n",
              "    </tr>\n",
              "    <tr>\n",
              "      <th>5</th>\n",
              "      <td>-0.116248</td>\n",
              "      <td>0.706389</td>\n",
              "      <td>2.327861</td>\n",
              "      <td>-1.442798</td>\n",
              "    </tr>\n",
              "    <tr>\n",
              "      <th>6</th>\n",
              "      <td>0.718424</td>\n",
              "      <td>-0.062804</td>\n",
              "      <td>-1.706297</td>\n",
              "      <td>-0.360948</td>\n",
              "    </tr>\n",
              "    <tr>\n",
              "      <th>7</th>\n",
              "      <td>-0.916412</td>\n",
              "      <td>1.236757</td>\n",
              "      <td>1.128546</td>\n",
              "      <td>-1.193799</td>\n",
              "    </tr>\n",
              "    <tr>\n",
              "      <th>8</th>\n",
              "      <td>0.363101</td>\n",
              "      <td>0.335201</td>\n",
              "      <td>-0.061458</td>\n",
              "      <td>-0.444600</td>\n",
              "    </tr>\n",
              "    <tr>\n",
              "      <th>9</th>\n",
              "      <td>-1.113501</td>\n",
              "      <td>-0.294747</td>\n",
              "      <td>-0.454060</td>\n",
              "      <td>0.740865</td>\n",
              "    </tr>\n",
              "  </tbody>\n",
              "</table>\n",
              "</div>"
            ],
            "text/plain": [
              "          a         b         c         d\n",
              "0 -0.286409  0.631345  0.695314 -0.343790\n",
              "1  0.599518  0.218544 -0.412197 -0.469114\n",
              "2  1.500041 -0.199225 -0.577007 -1.276129\n",
              "3 -1.187059 -0.193522 -0.496401 -1.732184\n",
              "4 -1.192196  1.387128 -0.741932 -0.526384\n",
              "5 -0.116248  0.706389  2.327861 -1.442798\n",
              "6  0.718424 -0.062804 -1.706297 -0.360948\n",
              "7 -0.916412  1.236757  1.128546 -1.193799\n",
              "8  0.363101  0.335201 -0.061458 -0.444600\n",
              "9 -1.113501 -0.294747 -0.454060  0.740865"
            ]
          },
          "metadata": {
            "tags": []
          },
          "execution_count": 2
        }
      ]
    },
    {
      "cell_type": "code",
      "metadata": {
        "colab": {
          "base_uri": "https://localhost:8080/",
          "height": 621
        },
        "id": "_po9veSYhnZX",
        "outputId": "dea74f43-8352-480c-886e-3d74936d16d2"
      },
      "source": [
        "df.plot(kind='bar',width=(3),figsize=(12,10))\n",
        "plt.title('Bar Graph')"
      ],
      "execution_count": 3,
      "outputs": [
        {
          "output_type": "execute_result",
          "data": {
            "text/plain": [
              "Text(0.5, 1.0, 'Bar Graph')"
            ]
          },
          "metadata": {
            "tags": []
          },
          "execution_count": 3
        },
        {
          "output_type": "display_data",
          "data": {
            "image/png": "[encoded data removed]",
            "text/plain": [
              "<Figure size 864x720 with 1 Axes>"
            ]
          },
          "metadata": {
            "tags": [],
            "needs_background": "light"
          }
        }
      ]
    },
    {
      "cell_type": "code",
      "metadata": {
        "id": "KZd6ymMhhncd"
      },
      "source": [
        ""
      ],
      "execution_count": null,
      "outputs": []
    }
  ]
}